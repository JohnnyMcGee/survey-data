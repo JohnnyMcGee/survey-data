{
 "cells": [
  {
   "cell_type": "code",
   "execution_count": 1,
   "id": "05ac0b8c",
   "metadata": {},
   "outputs": [],
   "source": [
    "import pandas as pd\n",
    "import survey_data as sd\n",
    "import os"
   ]
  },
  {
   "cell_type": "code",
   "execution_count": 2,
   "id": "4ba87034",
   "metadata": {},
   "outputs": [],
   "source": [
    "fpath = \"data/embed as-built/\"\n",
    "files = [os.path.join(fpath, f) for f in os.listdir(fpath)]\n",
    "fdata = [sd.read_txt(f) for f in files]\n",
    "unadjusted_data = pd.concat(fdata)\n",
    "unadjusted_data.reset_index(drop=True, inplace=True)"
   ]
  },
  {
   "cell_type": "code",
   "execution_count": 3,
   "id": "f2c8a562",
   "metadata": {},
   "outputs": [
    {
     "data": {
      "text/html": [
       "<div>\n",
       "<style scoped>\n",
       "    .dataframe tbody tr th:only-of-type {\n",
       "        vertical-align: middle;\n",
       "    }\n",
       "\n",
       "    .dataframe tbody tr th {\n",
       "        vertical-align: top;\n",
       "    }\n",
       "\n",
       "    .dataframe thead th {\n",
       "        text-align: right;\n",
       "    }\n",
       "</style>\n",
       "<table border=\"1\" class=\"dataframe\">\n",
       "  <thead>\n",
       "    <tr style=\"text-align: right;\">\n",
       "      <th></th>\n",
       "      <th>Name</th>\n",
       "      <th>X</th>\n",
       "      <th>Y</th>\n",
       "      <th>Z</th>\n",
       "    </tr>\n",
       "  </thead>\n",
       "  <tbody>\n",
       "    <tr>\n",
       "      <th>count</th>\n",
       "      <td>853.000000</td>\n",
       "      <td>853.000000</td>\n",
       "      <td>853.000000</td>\n",
       "      <td>853.000000</td>\n",
       "    </tr>\n",
       "    <tr>\n",
       "      <th>mean</th>\n",
       "      <td>426.000000</td>\n",
       "      <td>330.723042</td>\n",
       "      <td>-447.526752</td>\n",
       "      <td>15.279151</td>\n",
       "    </tr>\n",
       "    <tr>\n",
       "      <th>std</th>\n",
       "      <td>246.384185</td>\n",
       "      <td>196.005812</td>\n",
       "      <td>59.121935</td>\n",
       "      <td>15.970123</td>\n",
       "    </tr>\n",
       "    <tr>\n",
       "      <th>min</th>\n",
       "      <td>0.000000</td>\n",
       "      <td>-80.050000</td>\n",
       "      <td>-678.210000</td>\n",
       "      <td>-26.058700</td>\n",
       "    </tr>\n",
       "    <tr>\n",
       "      <th>25%</th>\n",
       "      <td>213.000000</td>\n",
       "      <td>138.583100</td>\n",
       "      <td>-483.773300</td>\n",
       "      <td>-0.154800</td>\n",
       "    </tr>\n",
       "    <tr>\n",
       "      <th>50%</th>\n",
       "      <td>426.000000</td>\n",
       "      <td>371.456500</td>\n",
       "      <td>-483.412800</td>\n",
       "      <td>15.768600</td>\n",
       "    </tr>\n",
       "    <tr>\n",
       "      <th>75%</th>\n",
       "      <td>639.000000</td>\n",
       "      <td>541.524800</td>\n",
       "      <td>-410.089600</td>\n",
       "      <td>33.793800</td>\n",
       "    </tr>\n",
       "    <tr>\n",
       "      <th>max</th>\n",
       "      <td>852.000000</td>\n",
       "      <td>601.132800</td>\n",
       "      <td>-195.140000</td>\n",
       "      <td>78.750000</td>\n",
       "    </tr>\n",
       "  </tbody>\n",
       "</table>\n",
       "</div>"
      ],
      "text/plain": [
       "             Name           X           Y           Z\n",
       "count  853.000000  853.000000  853.000000  853.000000\n",
       "mean   426.000000  330.723042 -447.526752   15.279151\n",
       "std    246.384185  196.005812   59.121935   15.970123\n",
       "min      0.000000  -80.050000 -678.210000  -26.058700\n",
       "25%    213.000000  138.583100 -483.773300   -0.154800\n",
       "50%    426.000000  371.456500 -483.412800   15.768600\n",
       "75%    639.000000  541.524800 -410.089600   33.793800\n",
       "max    852.000000  601.132800 -195.140000   78.750000"
      ]
     },
     "execution_count": 3,
     "metadata": {},
     "output_type": "execute_result"
    }
   ],
   "source": [
    "data = sd.adjust_elev(unadjusted_data, -21.25)\n",
    "data[\"Name\"] = data.index\n",
    "data.describe()"
   ]
  },
  {
   "cell_type": "code",
   "execution_count": 4,
   "id": "af82dab8",
   "metadata": {},
   "outputs": [],
   "source": [
    "data.Z = data.Z.apply(float)"
   ]
  },
  {
   "cell_type": "code",
   "execution_count": 5,
   "id": "a2397633",
   "metadata": {},
   "outputs": [],
   "source": [
    "divs = [-1000, 1, 16.85, 18, 35, 1000]\n",
    "levels = sd.split_by_level(data, divs)"
   ]
  },
  {
   "cell_type": "code",
   "execution_count": 6,
   "id": "93cd05da",
   "metadata": {
    "scrolled": true
   },
   "outputs": [
    {
     "data": {
      "text/html": [
       "<div>\n",
       "<style scoped>\n",
       "    .dataframe tbody tr th:only-of-type {\n",
       "        vertical-align: middle;\n",
       "    }\n",
       "\n",
       "    .dataframe tbody tr th {\n",
       "        vertical-align: top;\n",
       "    }\n",
       "\n",
       "    .dataframe thead th {\n",
       "        text-align: right;\n",
       "    }\n",
       "</style>\n",
       "<table border=\"1\" class=\"dataframe\">\n",
       "  <thead>\n",
       "    <tr style=\"text-align: right;\">\n",
       "      <th></th>\n",
       "      <th>Name</th>\n",
       "      <th>X</th>\n",
       "      <th>Y</th>\n",
       "      <th>Z</th>\n",
       "    </tr>\n",
       "  </thead>\n",
       "  <tbody>\n",
       "    <tr>\n",
       "      <th>count</th>\n",
       "      <td>325.000000</td>\n",
       "      <td>325.000000</td>\n",
       "      <td>325.000000</td>\n",
       "      <td>325.000000</td>\n",
       "    </tr>\n",
       "    <tr>\n",
       "      <th>mean</th>\n",
       "      <td>536.092308</td>\n",
       "      <td>316.147621</td>\n",
       "      <td>-448.247101</td>\n",
       "      <td>-1.927655</td>\n",
       "    </tr>\n",
       "    <tr>\n",
       "      <th>std</th>\n",
       "      <td>229.345144</td>\n",
       "      <td>206.471628</td>\n",
       "      <td>62.053271</td>\n",
       "      <td>5.505555</td>\n",
       "    </tr>\n",
       "    <tr>\n",
       "      <th>min</th>\n",
       "      <td>1.000000</td>\n",
       "      <td>-80.050000</td>\n",
       "      <td>-678.210000</td>\n",
       "      <td>-26.058700</td>\n",
       "    </tr>\n",
       "    <tr>\n",
       "      <th>25%</th>\n",
       "      <td>259.000000</td>\n",
       "      <td>108.387600</td>\n",
       "      <td>-483.787700</td>\n",
       "      <td>-0.202300</td>\n",
       "    </tr>\n",
       "    <tr>\n",
       "      <th>50%</th>\n",
       "      <td>534.000000</td>\n",
       "      <td>368.886400</td>\n",
       "      <td>-483.357400</td>\n",
       "      <td>-0.170100</td>\n",
       "    </tr>\n",
       "    <tr>\n",
       "      <th>75%</th>\n",
       "      <td>740.000000</td>\n",
       "      <td>541.343800</td>\n",
       "      <td>-417.092400</td>\n",
       "      <td>-0.147900</td>\n",
       "    </tr>\n",
       "    <tr>\n",
       "      <th>max</th>\n",
       "      <td>852.000000</td>\n",
       "      <td>584.365300</td>\n",
       "      <td>-195.140000</td>\n",
       "      <td>0.490600</td>\n",
       "    </tr>\n",
       "  </tbody>\n",
       "</table>\n",
       "</div>"
      ],
      "text/plain": [
       "             Name           X           Y           Z\n",
       "count  325.000000  325.000000  325.000000  325.000000\n",
       "mean   536.092308  316.147621 -448.247101   -1.927655\n",
       "std    229.345144  206.471628   62.053271    5.505555\n",
       "min      1.000000  -80.050000 -678.210000  -26.058700\n",
       "25%    259.000000  108.387600 -483.787700   -0.202300\n",
       "50%    534.000000  368.886400 -483.357400   -0.170100\n",
       "75%    740.000000  541.343800 -417.092400   -0.147900\n",
       "max    852.000000  584.365300 -195.140000    0.490600"
      ]
     },
     "execution_count": 6,
     "metadata": {},
     "output_type": "execute_result"
    }
   ],
   "source": [
    "levels[0].describe()"
   ]
  },
  {
   "cell_type": "code",
   "execution_count": 7,
   "id": "681e2c5f",
   "metadata": {},
   "outputs": [],
   "source": [
    "output_folder = \"output/embed data by level/\"\n",
    "if not os.path.exists(output_folder):\n",
    "    os.mkdir(output_folder)"
   ]
  },
  {
   "cell_type": "code",
   "execution_count": 8,
   "id": "ba8bcf3c",
   "metadata": {},
   "outputs": [],
   "source": [
    "flr1 = sd.get_feet_inches(levels[0])\n",
    "ceil1 = sd.get_feet_inches(levels[1])\n",
    "flr2 = sd.get_feet_inches(levels[2], adjust=-17)\n",
    "ceil2 = sd.get_feet_inches(levels[3], adjust=-17)\n",
    "flr3 = sd.get_feet_inches(levels[4], adjust=-35)"
   ]
  },
  {
   "cell_type": "code",
   "execution_count": 9,
   "id": "ea121166",
   "metadata": {
    "scrolled": true
   },
   "outputs": [],
   "source": [
    "flr1.to_csv(output_folder + \"level 1 floor.csv\", header=False, index=False)\n",
    "ceil1.to_csv(output_folder + \"level 1 ceiling.csv\", header=False, index=False)\n",
    "flr2.to_csv(output_folder + \"level 2 floor.csv\", header=False, index=False)\n",
    "ceil2.to_csv(output_folder + \"level 2 ceiling.csv\", header=False, index=False)\n",
    "flr3.to_csv(output_folder + \"level 3 floor.csv\", header=False, index=False)"
   ]
  },
  {
   "cell_type": "code",
   "execution_count": 10,
   "id": "186ee445",
   "metadata": {
    "scrolled": false
   },
   "outputs": [
    {
     "data": {
      "text/html": [
       "<div>\n",
       "<style scoped>\n",
       "    .dataframe tbody tr th:only-of-type {\n",
       "        vertical-align: middle;\n",
       "    }\n",
       "\n",
       "    .dataframe tbody tr th {\n",
       "        vertical-align: top;\n",
       "    }\n",
       "\n",
       "    .dataframe thead th {\n",
       "        text-align: right;\n",
       "    }\n",
       "</style>\n",
       "<table border=\"1\" class=\"dataframe\">\n",
       "  <thead>\n",
       "    <tr style=\"text-align: right;\">\n",
       "      <th></th>\n",
       "      <th>Name</th>\n",
       "      <th>X</th>\n",
       "      <th>Y</th>\n",
       "      <th>Z</th>\n",
       "      <th>Desc</th>\n",
       "      <th>Date</th>\n",
       "      <th>Time</th>\n",
       "      <th>adj_elev</th>\n",
       "      <th>ft_in</th>\n",
       "    </tr>\n",
       "  </thead>\n",
       "  <tbody>\n",
       "    <tr>\n",
       "      <th>1</th>\n",
       "      <td>1</td>\n",
       "      <td>555.9200</td>\n",
       "      <td>-540.7900</td>\n",
       "      <td>-21.2500</td>\n",
       "      <td>NaN</td>\n",
       "      <td>NaN</td>\n",
       "      <td>NaN</td>\n",
       "      <td>-21.2500</td>\n",
       "      <td>-21' 3-0/8\"</td>\n",
       "    </tr>\n",
       "    <tr>\n",
       "      <th>2</th>\n",
       "      <td>2</td>\n",
       "      <td>286.8200</td>\n",
       "      <td>-514.6900</td>\n",
       "      <td>-21.2500</td>\n",
       "      <td>NaN</td>\n",
       "      <td>NaN</td>\n",
       "      <td>NaN</td>\n",
       "      <td>-21.2500</td>\n",
       "      <td>-21' 3-0/8\"</td>\n",
       "    </tr>\n",
       "    <tr>\n",
       "      <th>4</th>\n",
       "      <td>4</td>\n",
       "      <td>412.3755</td>\n",
       "      <td>-565.2389</td>\n",
       "      <td>-0.0871</td>\n",
       "      <td>res</td>\n",
       "      <td>NaN</td>\n",
       "      <td>NaN</td>\n",
       "      <td>-0.0871</td>\n",
       "      <td>-0' 1-0/8\"</td>\n",
       "    </tr>\n",
       "    <tr>\n",
       "      <th>180</th>\n",
       "      <td>180</td>\n",
       "      <td>584.3653</td>\n",
       "      <td>-425.2598</td>\n",
       "      <td>-26.0587</td>\n",
       "      <td>tr</td>\n",
       "      <td>DATE:07-28-2021</td>\n",
       "      <td>TIME:12:30:14</td>\n",
       "      <td>-26.0587</td>\n",
       "      <td>-26' 0-6/8\"</td>\n",
       "    </tr>\n",
       "    <tr>\n",
       "      <th>181</th>\n",
       "      <td>181</td>\n",
       "      <td>555.9404</td>\n",
       "      <td>-546.0015</td>\n",
       "      <td>-20.8703</td>\n",
       "      <td>tr</td>\n",
       "      <td>DATE:07-28-2021</td>\n",
       "      <td>TIME:12:31:24</td>\n",
       "      <td>-20.8703</td>\n",
       "      <td>-20' 10-4/8\"</td>\n",
       "    </tr>\n",
       "  </tbody>\n",
       "</table>\n",
       "</div>"
      ],
      "text/plain": [
       "     Name         X         Y        Z Desc             Date           Time  \\\n",
       "1       1  555.9200 -540.7900 -21.2500  NaN              NaN            NaN   \n",
       "2       2  286.8200 -514.6900 -21.2500  NaN              NaN            NaN   \n",
       "4       4  412.3755 -565.2389  -0.0871  res              NaN            NaN   \n",
       "180   180  584.3653 -425.2598 -26.0587   tr  DATE:07-28-2021  TIME:12:30:14   \n",
       "181   181  555.9404 -546.0015 -20.8703   tr  DATE:07-28-2021  TIME:12:31:24   \n",
       "\n",
       "     adj_elev         ft_in  \n",
       "1    -21.2500   -21' 3-0/8\"  \n",
       "2    -21.2500   -21' 3-0/8\"  \n",
       "4     -0.0871    -0' 1-0/8\"  \n",
       "180  -26.0587   -26' 0-6/8\"  \n",
       "181  -20.8703  -20' 10-4/8\"  "
      ]
     },
     "execution_count": 10,
     "metadata": {},
     "output_type": "execute_result"
    }
   ],
   "source": [
    "flr1.head()"
   ]
  },
  {
   "cell_type": "code",
   "execution_count": 11,
   "id": "060f3330",
   "metadata": {},
   "outputs": [
    {
     "data": {
      "text/plain": [
       "(853, 7)"
      ]
     },
     "execution_count": 11,
     "metadata": {},
     "output_type": "execute_result"
    }
   ],
   "source": [
    "data.shape"
   ]
  }
 ],
 "metadata": {
  "kernelspec": {
   "display_name": "Python 3",
   "language": "python",
   "name": "python3"
  },
  "language_info": {
   "codemirror_mode": {
    "name": "ipython",
    "version": 3
   },
   "file_extension": ".py",
   "mimetype": "text/x-python",
   "name": "python",
   "nbconvert_exporter": "python",
   "pygments_lexer": "ipython3",
   "version": "3.9.6"
  }
 },
 "nbformat": 4,
 "nbformat_minor": 5
}
