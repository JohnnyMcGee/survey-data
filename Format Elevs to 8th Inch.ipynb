{
 "cells": [
  {
   "cell_type": "code",
   "execution_count": 18,
   "id": "f645abac",
   "metadata": {},
   "outputs": [],
   "source": [
    "import pandas as pd"
   ]
  },
  {
   "cell_type": "code",
   "execution_count": 19,
   "id": "745610b0",
   "metadata": {
    "scrolled": true
   },
   "outputs": [
    {
     "data": {
      "text/html": [
       "<div>\n",
       "<style scoped>\n",
       "    .dataframe tbody tr th:only-of-type {\n",
       "        vertical-align: middle;\n",
       "    }\n",
       "\n",
       "    .dataframe tbody tr th {\n",
       "        vertical-align: top;\n",
       "    }\n",
       "\n",
       "    .dataframe thead th {\n",
       "        text-align: right;\n",
       "    }\n",
       "</style>\n",
       "<table border=\"1\" class=\"dataframe\">\n",
       "  <thead>\n",
       "    <tr style=\"text-align: right;\">\n",
       "      <th></th>\n",
       "      <th>Name</th>\n",
       "      <th>N</th>\n",
       "      <th>E</th>\n",
       "      <th>Elev</th>\n",
       "      <th>Desc</th>\n",
       "    </tr>\n",
       "  </thead>\n",
       "  <tbody>\n",
       "    <tr>\n",
       "      <th>0</th>\n",
       "      <td>740</td>\n",
       "      <td>200.6600</td>\n",
       "      <td>-678.2100</td>\n",
       "      <td>-21.2500</td>\n",
       "      <td>Start</td>\n",
       "    </tr>\n",
       "    <tr>\n",
       "      <th>1</th>\n",
       "      <td>741</td>\n",
       "      <td>584.3653</td>\n",
       "      <td>-425.2598</td>\n",
       "      <td>-26.0587</td>\n",
       "      <td>tr</td>\n",
       "    </tr>\n",
       "    <tr>\n",
       "      <th>2</th>\n",
       "      <td>742</td>\n",
       "      <td>555.9200</td>\n",
       "      <td>-540.7900</td>\n",
       "      <td>-21.2500</td>\n",
       "      <td>NaN</td>\n",
       "    </tr>\n",
       "    <tr>\n",
       "      <th>3</th>\n",
       "      <td>743</td>\n",
       "      <td>286.8200</td>\n",
       "      <td>-514.6900</td>\n",
       "      <td>-21.2500</td>\n",
       "      <td>NaN</td>\n",
       "    </tr>\n",
       "    <tr>\n",
       "      <th>4</th>\n",
       "      <td>744</td>\n",
       "      <td>555.9404</td>\n",
       "      <td>-546.0015</td>\n",
       "      <td>-20.8703</td>\n",
       "      <td>tr</td>\n",
       "    </tr>\n",
       "  </tbody>\n",
       "</table>\n",
       "</div>"
      ],
      "text/plain": [
       "  Name         N         E     Elev   Desc\n",
       "0  740  200.6600 -678.2100 -21.2500  Start\n",
       "1  741  584.3653 -425.2598 -26.0587     tr\n",
       "2  742  555.9200 -540.7900 -21.2500    NaN\n",
       "3  743  286.8200 -514.6900 -21.2500    NaN\n",
       "4  744  555.9404 -546.0015 -20.8703     tr"
      ]
     },
     "execution_count": 19,
     "metadata": {},
     "output_type": "execute_result"
    }
   ],
   "source": [
    "fpath = \"data/Embed As-built (Field Data) JBM 20210802.txt\"\n",
    "df = pd.read_csv(fpath, names=[\"Name\", \"N\", \"E\", \"Elev\", \"Desc\"])\n",
    "df.head()"
   ]
  },
  {
   "cell_type": "code",
   "execution_count": 20,
   "id": "c04293c4",
   "metadata": {},
   "outputs": [],
   "source": [
    "upper_lvl = df.loc[df[\"Elev\"] >= 17.0]\n",
    "lower_lvl = df.loc[df[\"Elev\"] < 17.0]"
   ]
  },
  {
   "cell_type": "code",
   "execution_count": 4,
   "id": "b79b4073",
   "metadata": {},
   "outputs": [
    {
     "name": "stderr",
     "output_type": "stream",
     "text": [
      "C:\\Users\\User 4\\miniconda3\\envs\\data\\lib\\site-packages\\pandas\\core\\frame.py:3607: SettingWithCopyWarning: \n",
      "A value is trying to be set on a copy of a slice from a DataFrame.\n",
      "Try using .loc[row_indexer,col_indexer] = value instead\n",
      "\n",
      "See the caveats in the documentation: https://pandas.pydata.org/pandas-docs/stable/user_guide/indexing.html#returning-a-view-versus-a-copy\n",
      "  self._set_item(key, value)\n"
     ]
    }
   ],
   "source": [
    "upper_lvl[\"Adj_Elev\"] = upper_lvl.Elev - 17.0"
   ]
  },
  {
   "cell_type": "code",
   "execution_count": 5,
   "id": "c16624d7",
   "metadata": {},
   "outputs": [],
   "source": [
    "import math\n",
    "upper_lvl[\"ElevFeet\"] = upper_lvl.Adj_Elev.apply(lambda x: math.trunc(x))\n",
    "lower_lvl[\"ElevFeet\"] = lower_lvl.Elev.apply(lambda x: math.trunc(x))"
   ]
  },
  {
   "cell_type": "code",
   "execution_count": 6,
   "id": "e3f96f77",
   "metadata": {},
   "outputs": [],
   "source": [
    "upper_lvl[\"ElevInches_dec\"] = upper_lvl.Adj_Elev.apply(lambda x: 12 * (math.modf(x)[0]))\n",
    "lower_lvl[\"ElevInches_dec\"] = lower_lvl.Elev.apply(lambda x: 12 * (math.modf(x)[0]))"
   ]
  },
  {
   "cell_type": "code",
   "execution_count": 7,
   "id": "96745e73",
   "metadata": {},
   "outputs": [],
   "source": [
    "upper_lvl[\"ElevInches\"] = upper_lvl.ElevInches_dec.apply(lambda x: math.trunc(x))\n",
    "lower_lvl[\"ElevInches\"] = lower_lvl.ElevInches_dec.apply(lambda x: math.trunc(x))"
   ]
  },
  {
   "cell_type": "code",
   "execution_count": 8,
   "id": "39366c7c",
   "metadata": {},
   "outputs": [],
   "source": [
    "upper_lvl[\"E8ths\"] = upper_lvl.ElevInches_dec.apply(lambda x: round(8 * math.modf(x)[0]))\n",
    "lower_lvl[\"E8ths\"] = lower_lvl.ElevInches_dec.apply(lambda x: round(8 * math.modf(x)[0]))"
   ]
  },
  {
   "cell_type": "code",
   "execution_count": 9,
   "id": "942847b4",
   "metadata": {},
   "outputs": [
    {
     "data": {
      "text/plain": [
       "Index(['Name', 'N', 'E', 'Elev', 'Desc', 'Adj_Elev', 'ElevFeet',\n",
       "       'ElevInches_dec', 'ElevInches', 'E8ths'],\n",
       "      dtype='object')"
      ]
     },
     "execution_count": 9,
     "metadata": {},
     "output_type": "execute_result"
    }
   ],
   "source": [
    "upper_lvl.columns"
   ]
  },
  {
   "cell_type": "code",
   "execution_count": 10,
   "id": "eb7b956f",
   "metadata": {
    "scrolled": true
   },
   "outputs": [
    {
     "data": {
      "text/html": [
       "<div>\n",
       "<style scoped>\n",
       "    .dataframe tbody tr th:only-of-type {\n",
       "        vertical-align: middle;\n",
       "    }\n",
       "\n",
       "    .dataframe tbody tr th {\n",
       "        vertical-align: top;\n",
       "    }\n",
       "\n",
       "    .dataframe thead th {\n",
       "        text-align: right;\n",
       "    }\n",
       "</style>\n",
       "<table border=\"1\" class=\"dataframe\">\n",
       "  <thead>\n",
       "    <tr style=\"text-align: right;\">\n",
       "      <th></th>\n",
       "      <th>Elev</th>\n",
       "      <th>Adj_Elev</th>\n",
       "      <th>ElevFeet</th>\n",
       "      <th>ElevInches</th>\n",
       "      <th>E8ths</th>\n",
       "    </tr>\n",
       "  </thead>\n",
       "  <tbody>\n",
       "    <tr>\n",
       "      <th>452</th>\n",
       "      <td>32.4585</td>\n",
       "      <td>-2.5415</td>\n",
       "      <td>-2</td>\n",
       "      <td>-6</td>\n",
       "      <td>-4</td>\n",
       "    </tr>\n",
       "    <tr>\n",
       "      <th>453</th>\n",
       "      <td>33.3610</td>\n",
       "      <td>-1.6390</td>\n",
       "      <td>-1</td>\n",
       "      <td>-7</td>\n",
       "      <td>-5</td>\n",
       "    </tr>\n",
       "    <tr>\n",
       "      <th>454</th>\n",
       "      <td>33.4527</td>\n",
       "      <td>-1.5473</td>\n",
       "      <td>-1</td>\n",
       "      <td>-6</td>\n",
       "      <td>-5</td>\n",
       "    </tr>\n",
       "    <tr>\n",
       "      <th>455</th>\n",
       "      <td>33.4605</td>\n",
       "      <td>-1.5395</td>\n",
       "      <td>-1</td>\n",
       "      <td>-6</td>\n",
       "      <td>-4</td>\n",
       "    </tr>\n",
       "    <tr>\n",
       "      <th>456</th>\n",
       "      <td>33.4664</td>\n",
       "      <td>-1.5336</td>\n",
       "      <td>-1</td>\n",
       "      <td>-6</td>\n",
       "      <td>-3</td>\n",
       "    </tr>\n",
       "    <tr>\n",
       "      <th>...</th>\n",
       "      <td>...</td>\n",
       "      <td>...</td>\n",
       "      <td>...</td>\n",
       "      <td>...</td>\n",
       "      <td>...</td>\n",
       "    </tr>\n",
       "    <tr>\n",
       "      <th>737</th>\n",
       "      <td>33.8822</td>\n",
       "      <td>-1.1178</td>\n",
       "      <td>-1</td>\n",
       "      <td>-1</td>\n",
       "      <td>-3</td>\n",
       "    </tr>\n",
       "    <tr>\n",
       "      <th>738</th>\n",
       "      <td>33.8825</td>\n",
       "      <td>-1.1175</td>\n",
       "      <td>-1</td>\n",
       "      <td>-1</td>\n",
       "      <td>-3</td>\n",
       "    </tr>\n",
       "    <tr>\n",
       "      <th>739</th>\n",
       "      <td>33.8829</td>\n",
       "      <td>-1.1171</td>\n",
       "      <td>-1</td>\n",
       "      <td>-1</td>\n",
       "      <td>-3</td>\n",
       "    </tr>\n",
       "    <tr>\n",
       "      <th>740</th>\n",
       "      <td>33.8842</td>\n",
       "      <td>-1.1158</td>\n",
       "      <td>-1</td>\n",
       "      <td>-1</td>\n",
       "      <td>-3</td>\n",
       "    </tr>\n",
       "    <tr>\n",
       "      <th>741</th>\n",
       "      <td>33.8859</td>\n",
       "      <td>-1.1141</td>\n",
       "      <td>-1</td>\n",
       "      <td>-1</td>\n",
       "      <td>-3</td>\n",
       "    </tr>\n",
       "  </tbody>\n",
       "</table>\n",
       "<p>290 rows × 5 columns</p>\n",
       "</div>"
      ],
      "text/plain": [
       "        Elev  Adj_Elev  ElevFeet  ElevInches  E8ths\n",
       "452  32.4585   -2.5415        -2          -6     -4\n",
       "453  33.3610   -1.6390        -1          -7     -5\n",
       "454  33.4527   -1.5473        -1          -6     -5\n",
       "455  33.4605   -1.5395        -1          -6     -4\n",
       "456  33.4664   -1.5336        -1          -6     -3\n",
       "..       ...       ...       ...         ...    ...\n",
       "737  33.8822   -1.1178        -1          -1     -3\n",
       "738  33.8825   -1.1175        -1          -1     -3\n",
       "739  33.8829   -1.1171        -1          -1     -3\n",
       "740  33.8842   -1.1158        -1          -1     -3\n",
       "741  33.8859   -1.1141        -1          -1     -3\n",
       "\n",
       "[290 rows x 5 columns]"
      ]
     },
     "execution_count": 10,
     "metadata": {},
     "output_type": "execute_result"
    }
   ],
   "source": [
    "upper_lvl[[\"Elev\",\"Adj_Elev\", \"ElevFeet\", \"ElevInches\", \"E8ths\"]]"
   ]
  },
  {
   "cell_type": "code",
   "execution_count": 11,
   "id": "0012504a",
   "metadata": {},
   "outputs": [
    {
     "data": {
      "text/plain": [
       "Index(['Name', 'N', 'E', 'Elev', 'Desc', 'Adj_Elev', 'ElevFeet',\n",
       "       'ElevInches_dec', 'ElevInches', 'E8ths'],\n",
       "      dtype='object')"
      ]
     },
     "execution_count": 11,
     "metadata": {},
     "output_type": "execute_result"
    }
   ],
   "source": [
    "upper_lvl.columns"
   ]
  },
  {
   "cell_type": "code",
   "execution_count": 12,
   "id": "2d7720cc",
   "metadata": {},
   "outputs": [
    {
     "data": {
      "text/html": [
       "<div>\n",
       "<style scoped>\n",
       "    .dataframe tbody tr th:only-of-type {\n",
       "        vertical-align: middle;\n",
       "    }\n",
       "\n",
       "    .dataframe tbody tr th {\n",
       "        vertical-align: top;\n",
       "    }\n",
       "\n",
       "    .dataframe thead th {\n",
       "        text-align: right;\n",
       "    }\n",
       "</style>\n",
       "<table border=\"1\" class=\"dataframe\">\n",
       "  <thead>\n",
       "    <tr style=\"text-align: right;\">\n",
       "      <th></th>\n",
       "      <th>Elev</th>\n",
       "      <th>ElevFeet</th>\n",
       "      <th>ElevInches</th>\n",
       "      <th>E8ths</th>\n",
       "    </tr>\n",
       "  </thead>\n",
       "  <tbody>\n",
       "    <tr>\n",
       "      <th>0</th>\n",
       "      <td>-21.2500</td>\n",
       "      <td>-21</td>\n",
       "      <td>-3</td>\n",
       "      <td>0</td>\n",
       "    </tr>\n",
       "    <tr>\n",
       "      <th>1</th>\n",
       "      <td>-26.0587</td>\n",
       "      <td>-26</td>\n",
       "      <td>0</td>\n",
       "      <td>-6</td>\n",
       "    </tr>\n",
       "    <tr>\n",
       "      <th>2</th>\n",
       "      <td>-21.2500</td>\n",
       "      <td>-21</td>\n",
       "      <td>-3</td>\n",
       "      <td>0</td>\n",
       "    </tr>\n",
       "    <tr>\n",
       "      <th>3</th>\n",
       "      <td>-21.2500</td>\n",
       "      <td>-21</td>\n",
       "      <td>-3</td>\n",
       "      <td>0</td>\n",
       "    </tr>\n",
       "    <tr>\n",
       "      <th>4</th>\n",
       "      <td>-20.8703</td>\n",
       "      <td>-20</td>\n",
       "      <td>-10</td>\n",
       "      <td>-4</td>\n",
       "    </tr>\n",
       "    <tr>\n",
       "      <th>...</th>\n",
       "      <td>...</td>\n",
       "      <td>...</td>\n",
       "      <td>...</td>\n",
       "      <td>...</td>\n",
       "    </tr>\n",
       "    <tr>\n",
       "      <th>447</th>\n",
       "      <td>16.8721</td>\n",
       "      <td>16</td>\n",
       "      <td>10</td>\n",
       "      <td>4</td>\n",
       "    </tr>\n",
       "    <tr>\n",
       "      <th>448</th>\n",
       "      <td>16.8797</td>\n",
       "      <td>16</td>\n",
       "      <td>10</td>\n",
       "      <td>4</td>\n",
       "    </tr>\n",
       "    <tr>\n",
       "      <th>449</th>\n",
       "      <td>16.8820</td>\n",
       "      <td>16</td>\n",
       "      <td>10</td>\n",
       "      <td>5</td>\n",
       "    </tr>\n",
       "    <tr>\n",
       "      <th>450</th>\n",
       "      <td>16.8841</td>\n",
       "      <td>16</td>\n",
       "      <td>10</td>\n",
       "      <td>5</td>\n",
       "    </tr>\n",
       "    <tr>\n",
       "      <th>451</th>\n",
       "      <td>16.9154</td>\n",
       "      <td>16</td>\n",
       "      <td>10</td>\n",
       "      <td>8</td>\n",
       "    </tr>\n",
       "  </tbody>\n",
       "</table>\n",
       "<p>452 rows × 4 columns</p>\n",
       "</div>"
      ],
      "text/plain": [
       "        Elev  ElevFeet  ElevInches  E8ths\n",
       "0   -21.2500       -21          -3      0\n",
       "1   -26.0587       -26           0     -6\n",
       "2   -21.2500       -21          -3      0\n",
       "3   -21.2500       -21          -3      0\n",
       "4   -20.8703       -20         -10     -4\n",
       "..       ...       ...         ...    ...\n",
       "447  16.8721        16          10      4\n",
       "448  16.8797        16          10      4\n",
       "449  16.8820        16          10      5\n",
       "450  16.8841        16          10      5\n",
       "451  16.9154        16          10      8\n",
       "\n",
       "[452 rows x 4 columns]"
      ]
     },
     "execution_count": 12,
     "metadata": {},
     "output_type": "execute_result"
    }
   ],
   "source": [
    "lower_lvl[[\"Elev\", \"ElevFeet\", \"ElevInches\", \"E8ths\"]]"
   ]
  },
  {
   "cell_type": "code",
   "execution_count": 13,
   "id": "25437bb8",
   "metadata": {},
   "outputs": [],
   "source": [
    "upper_lvl.to_csv(\"Upper Level Feet and Inches.csv\", index=False)\n",
    "# lower_lvl.to_csv(\"Lower Level Feet and Inches.csv\", index=False)"
   ]
  },
  {
   "cell_type": "code",
   "execution_count": 14,
   "id": "b0180f0f",
   "metadata": {},
   "outputs": [
    {
     "data": {
      "text/plain": [
       "-0.15000000000000036"
      ]
     },
     "execution_count": 14,
     "metadata": {},
     "output_type": "execute_result"
    }
   ],
   "source": [
    "math.modf(-9.15)[0]"
   ]
  },
  {
   "cell_type": "code",
   "execution_count": 17,
   "id": "77553386",
   "metadata": {},
   "outputs": [
    {
     "data": {
      "text/plain": [
       "-1.173449999999999"
      ]
     },
     "execution_count": 17,
     "metadata": {},
     "output_type": "execute_result"
    }
   ],
   "source": [
    "upper_lvl.Adj_Elev.median()"
   ]
  },
  {
   "cell_type": "code",
   "execution_count": null,
   "id": "ac48d21f",
   "metadata": {},
   "outputs": [],
   "source": []
  }
 ],
 "metadata": {
  "kernelspec": {
   "display_name": "Python 3",
   "language": "python",
   "name": "python3"
  },
  "language_info": {
   "codemirror_mode": {
    "name": "ipython",
    "version": 3
   },
   "file_extension": ".py",
   "mimetype": "text/x-python",
   "name": "python",
   "nbconvert_exporter": "python",
   "pygments_lexer": "ipython3",
   "version": "3.9.6"
  }
 },
 "nbformat": 4,
 "nbformat_minor": 5
}
