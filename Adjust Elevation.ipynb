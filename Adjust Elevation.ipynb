{
 "cells": [
  {
   "cell_type": "code",
   "execution_count": 1,
   "id": "ab1e098e",
   "metadata": {},
   "outputs": [],
   "source": [
    "import pandas as pd"
   ]
  },
  {
   "cell_type": "code",
   "execution_count": 2,
   "id": "71224fd7",
   "metadata": {},
   "outputs": [],
   "source": [
    "fpath = \"55-15 Grand ave (Level 1) JBM20210802.csv\"\n",
    "columns = [\"Name\", \"X\", \"Y\", \"Z\", \"Desc\", \"Date\", \"Time\"]\n",
    "df = pd.read_csv(fpath, names=columns)"
   ]
  },
  {
   "cell_type": "code",
   "execution_count": 24,
   "id": "04dc75fe",
   "metadata": {},
   "outputs": [],
   "source": [
    "def adjust_elev(data, delta):\n",
    "    df = data.copy()\n",
    "    df[\"Z\"] = df[\"Z\"].apply(float)\n",
    "    df.Z += delta\n",
    "    return df"
   ]
  },
  {
   "cell_type": "code",
   "execution_count": 25,
   "id": "01aa4d51",
   "metadata": {},
   "outputs": [],
   "source": [
    "df_lower = adjust_elev(df, -21.25)"
   ]
  },
  {
   "cell_type": "code",
   "execution_count": 33,
   "id": "b4c8a371",
   "metadata": {},
   "outputs": [
    {
     "data": {
      "text/plain": [
       "'Adjusted\\\\Adjusted_55-15 Grand ave (Level 1) JBM20210802.csv'"
      ]
     },
     "execution_count": 33,
     "metadata": {},
     "output_type": "execute_result"
    }
   ],
   "source": [
    "import os\n",
    "adjusted_fpath = lambda fp: os.path.join(\"Adjusted\", \"Adjusted_\" + fp)\n",
    "adjusted_fpath(fpath)"
   ]
  },
  {
   "cell_type": "code",
   "execution_count": 36,
   "id": "6d9f17a3",
   "metadata": {},
   "outputs": [],
   "source": [
    "csv_files = [p for p in os.listdir() if \".csv\" in p]"
   ]
  },
  {
   "cell_type": "code",
   "execution_count": 40,
   "id": "a21cf6e2",
   "metadata": {},
   "outputs": [],
   "source": [
    "for f in csv_files:\n",
    "    df = pd.read_csv(f, names=columns)\n",
    "    df_adj = adjust_elev(df, -21.25)\n",
    "    df_adj.to_csv(adjusted_fpath(f), index=False)"
   ]
  },
  {
   "cell_type": "code",
   "execution_count": null,
   "id": "39b9d156",
   "metadata": {},
   "outputs": [],
   "source": [
    "def adjust_elev_and_copy(fpath, adjustment):\n",
    "    "
   ]
  }
 ],
 "metadata": {
  "kernelspec": {
   "display_name": "Python 3",
   "language": "python",
   "name": "python3"
  },
  "language_info": {
   "codemirror_mode": {
    "name": "ipython",
    "version": 3
   },
   "file_extension": ".py",
   "mimetype": "text/x-python",
   "name": "python",
   "nbconvert_exporter": "python",
   "pygments_lexer": "ipython3",
   "version": "3.9.6"
  }
 },
 "nbformat": 4,
 "nbformat_minor": 5
}
